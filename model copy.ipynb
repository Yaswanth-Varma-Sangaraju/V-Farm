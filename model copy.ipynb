{
 "cells": [
  {
   "cell_type": "code",
   "execution_count": 7,
   "id": "40b0ad5e",
   "metadata": {},
   "outputs": [
    {
     "name": "stdout",
     "output_type": "stream",
     "text": [
      "Training done and model saved.\n"
     ]
    }
   ],
   "source": [
    "import pandas as pd\n",
    "from sklearn.ensemble import RandomForestRegressor\n",
    "from sklearn.model_selection import train_test_split, GridSearchCV\n",
    "from sklearn.preprocessing import OneHotEncoder\n",
    "import joblib\n",
    "\n",
    "# Load and preprocess\n",
    "df = pd.read_csv(\"crop_yield.csv\")\n",
    "categorical = ['Crop', 'Season', 'State']\n",
    "\n",
    "encoder = OneHotEncoder(sparse_output=False)\n",
    "encoder.fit(df[categorical])\n",
    "\n",
    "categorical_encoded = encoder.transform(df[categorical])\n",
    "categorical_df = pd.DataFrame(categorical_encoded, columns=encoder.get_feature_names_out())\n",
    "\n",
    "# Weight factor for Annual_Rainfall\n",
    "rainfall_weight = 2\n",
    "weighted_rainfall = df['Annual_Rainfall'] * rainfall_weight\n",
    "\n",
    "features = ['Crop_Year', 'Area', 'Production', 'Fertilizer', 'Pesticide']\n",
    "\n",
    "X = pd.concat([\n",
    "    categorical_df.reset_index(drop=True),\n",
    "    df[features].reset_index(drop=True),\n",
    "    weighted_rainfall.reset_index(drop=True)\n",
    "], axis=1)\n",
    "\n",
    "# Rename weighted rainfall column\n",
    "X = X.rename(columns={'Annual_Rainfall': 'Annual_Rainfall_Weighted'})\n",
    "\n",
    "y = df['Yield']\n",
    "\n",
    "# Train-test split\n",
    "X_train, X_test, y_train, y_test = train_test_split(X, y, test_size=0.4, random_state=42)\n",
    "\n",
    "param_grid = {\n",
    "    'n_estimators': [100],\n",
    "    'max_depth': [20],\n",
    "    'min_samples_split': [2],\n",
    "    'min_samples_leaf': [1]\n",
    "}\n",
    "\n",
    "grid_search = GridSearchCV(RandomForestRegressor(random_state=42), param_grid, cv=3, scoring='r2', n_jobs=-1)\n",
    "grid_search.fit(X_train, y_train)\n",
    "best_model = grid_search.best_estimator_\n",
    "\n",
    "# Save model and encoder for reuse\n",
    "joblib.dump(best_model, \"crop_yield_model.joblib\")\n",
    "joblib.dump(encoder, \"onehot_encoder.joblib\")\n",
    "\n",
    "print(\"Training done and model saved.\")\n"
   ]
  }
 ],
 "metadata": {
  "kernelspec": {
   "display_name": "Python 3",
   "language": "python",
   "name": "python3"
  },
  "language_info": {
   "codemirror_mode": {
    "name": "ipython",
    "version": 3
   },
   "file_extension": ".py",
   "mimetype": "text/x-python",
   "name": "python",
   "nbconvert_exporter": "python",
   "pygments_lexer": "ipython3",
   "version": "3.11.4"
  }
 },
 "nbformat": 4,
 "nbformat_minor": 5
}
